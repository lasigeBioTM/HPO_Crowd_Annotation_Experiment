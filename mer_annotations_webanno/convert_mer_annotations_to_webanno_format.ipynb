{
 "cells": [
  {
   "cell_type": "code",
   "execution_count": 154,
   "metadata": {},
   "outputs": [],
   "source": [
    "import os\n",
    "import re\n",
    "\n",
    "def split_span(s):\n",
    "    tokens = []\n",
    "    for match in re.finditer(r\"[\\w\\d]+|[^\\w\\d\\s]+|\\s+\", s):\n",
    "        span = match.span()\n",
    "        tokens.append((match.group(0), span[0], span[1]))\n",
    "    return tokens"
   ]
  },
  {
   "cell_type": "code",
   "execution_count": 155,
   "metadata": {
    "collapsed": true
   },
   "outputs": [],
   "source": [
    "path_documents_text = '../text/'\n",
    "path_mer_annotations = '../mer_annotations/annotations/'"
   ]
  },
  {
   "cell_type": "code",
   "execution_count": 156,
   "metadata": {},
   "outputs": [],
   "source": [
    "document_ids = os.listdir(path_documents_text)\n",
    "\n",
    "for document_id in document_ids:\n",
    "    with open(path_documents_text + document_id) as f:\n",
    "        document_text = f.read()\n",
    "        document_text = document_text.replace('\\n', ' ')\n",
    "\n",
    "    with open(path_mer_annotations + document_id + '.tsv') as f:\n",
    "        mer_annotations = map(lambda annotation: annotation.strip().split('\\t'), f.readlines())\n",
    "        mer_annotations = map(lambda annotation: [int(annotation[0]), int(annotation[1]), annotation[2]], mer_annotations)\n",
    "        mer_annotations.sort()\n",
    "        \n",
    "    # Split text into tokens and indexes\n",
    "    splitted_text = split_span(document_text)\n",
    "    \n",
    "    # Mark the tokens that are named entities. Check WebAnno documentation to check how WebAnno TSV 3 format works \n",
    "    # https://webanno.github.io/webanno/releases/3.2.0/docs/user-guide.html#sect_webannotsv\n",
    "    for i, annotation in enumerate(mer_annotations):\n",
    "        annotation_index_begin = annotation[0]\n",
    "        annotation_index_end = annotation[1]\n",
    "\n",
    "        for j, token in enumerate(splitted_text):\n",
    "            token_index_begin = token[1]\n",
    "            token_index_end = token[2]\n",
    "\n",
    "            if token_index_begin >= annotation_index_begin and token_index_end <= annotation_index_end:\n",
    "\n",
    "                splitted_text[j] += ('HPO[{}]'.format(i),)\n",
    "    \n",
    "    # If the word does not correspond to any named-entity, mark it with an underscore\n",
    "    for j, token in enumerate(splitted_text):\n",
    "        if len(token) == 3:\n",
    "            splitted_text[j] += ('_',)\n",
    "    \n",
    "    # Prepare WebAnno TSV 3 annotation lines to write to file\n",
    "    webanno_annotations = []\n",
    "    for j, token in enumerate(splitted_text):\n",
    "        text = token[0]\n",
    "        index_begin = token[1]\n",
    "        index_end = token[2]\n",
    "        entity_type = '|'.join(token[3:])\n",
    "\n",
    "\n",
    "        if text == ' ':\n",
    "            continue\n",
    "\n",
    "\n",
    "        webanno_annotation = '1-{}\\t'.format(j + 1)\n",
    "        webanno_annotation += '{}-{}\\t'.format(token[1], token[2])\n",
    "        webanno_annotation += '{}\\t'.format(text)\n",
    "        webanno_annotation += '{}\\n'.format(entity_type)\n",
    "\n",
    "        webanno_annotations.append(webanno_annotation)\n",
    "    \n",
    "    # Write to file\n",
    "    with open('annotations/{}.tsv'.format(document_id), 'w') as webanno_file:\n",
    "\n",
    "        webanno_file.write('#FORMAT=WebAnno TSV 3\\n')\n",
    "        webanno_file.write('#T_SP=de.tudarmstadt.ukp.dkpro.core.api.ner.type.NamedEntity|value\\n\\n\\n')\n",
    "\n",
    "        webanno_file.write('#Text={}\\n'.format(document_text))\n",
    "\n",
    "        for webanno_annotation in webanno_annotations:\n",
    "            webanno_file.write(webanno_annotation)"
   ]
  }
 ],
 "metadata": {
  "kernelspec": {
   "display_name": "Python 2",
   "language": "python",
   "name": "python2"
  },
  "language_info": {
   "codemirror_mode": {
    "name": "ipython",
    "version": 2
   },
   "file_extension": ".py",
   "mimetype": "text/x-python",
   "name": "python",
   "nbconvert_exporter": "python",
   "pygments_lexer": "ipython2",
   "version": "2.7.12"
  }
 },
 "nbformat": 4,
 "nbformat_minor": 2
}
